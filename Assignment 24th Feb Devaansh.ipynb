{
 "cells": [
  {
   "cell_type": "code",
   "execution_count": null,
   "id": "ce640045",
   "metadata": {},
   "outputs": [],
   "source": [
    "#ANS 1 : \n",
    "\n",
    "''' \n",
    "1.) max() \n",
    "2.) sort_values()\n",
    "3.) describe()\n",
    "4.) categorical()\n",
    "5.) loc() & iloc()\n",
    "'''"
   ]
  },
  {
   "cell_type": "code",
   "execution_count": null,
   "id": "eddfe93a",
   "metadata": {},
   "outputs": [],
   "source": [
    "#ANS 2 : \n",
    "\n",
    "import pandas as pd\n",
    "dict1 = {\"A\":[1,2,3,5,4,5,4], \"B\":[4,5,6,5,6,7,8], \"C\":[7,8,9,3,4,7,5]}\n",
    "df = pd.DataFrame(dict1)\n",
    "df_data = df.reindex([1,3,5,7,9])\n",
    "print(df_data)"
   ]
  },
  {
   "cell_type": "code",
   "execution_count": null,
   "id": "ea7a2e29",
   "metadata": {},
   "outputs": [],
   "source": [
    "#ANS 3 : \n",
    "\n",
    "data2 = {\"VALUES\": [10,20,30,40,50,60,70]}\n",
    "df = pd.DataFrame(data2)\n",
    "for column in data2:\n",
    "    print(df[\"column\"].sum[0:2])"
   ]
  },
  {
   "cell_type": "code",
   "execution_count": null,
   "id": "ba31bca0",
   "metadata": {},
   "outputs": [],
   "source": [
    "#ANS 4 : \n",
    "\n",
    "data3 = {\"TEXT\": ['ROHANI','SAHIL','ADITIYA']}\n",
    "df1 = pd.DataFrame(data3)\n",
    "df1[\"WORD_COUNT\"] = []\n",
    "\n",
    "for TEXT in data3:\n",
    "    TEXT.count(data3)\n",
    "    df.append(df1)\n",
    "    "
   ]
  },
  {
   "cell_type": "code",
   "execution_count": null,
   "id": "946334d4",
   "metadata": {},
   "outputs": [],
   "source": [
    "#ANS 5 : \n",
    "\n",
    "''' \n",
    "DATAFRAME SIZE() IS BASICALLY GETS THE NUMBER OF ELEMENTS PRESEN IN A DATAFRAME LIKE NUMBER OF ROWS AND \n",
    "COLUMNS.\n",
    "\n",
    "DATAFRAME SHAPE() IS BASICALLY GETS THE DIMENTIONALITY/CARDINALITY OF A DATAFRAME WHETHER A DATAFRAME IS \n",
    "OF 2 DIM OR 3 DIM.\n",
    "\n",
    "'''"
   ]
  },
  {
   "cell_type": "code",
   "execution_count": null,
   "id": "98cbab88",
   "metadata": {},
   "outputs": [],
   "source": [
    "#ANS 6 : \n",
    "\n",
    "df = pd.read_Excel(\"FILE PATH/NAME\")"
   ]
  },
  {
   "cell_type": "code",
   "execution_count": null,
   "id": "861a5724",
   "metadata": {},
   "outputs": [],
   "source": [
    "#ANS 7 : \n",
    "\n",
    "import pandas as pd\n",
    "data4 = {\"EMAIL\" : [\"devaansh@gmail.com\", \"ramesh@gmail.com\", \"johnwick@gmail.com\"]}\n",
    "DF1 = pd.DataFrame(data4)\n",
    "DF1[\"USERNAME\"] = DF1[\"EMAIL\"].apply(lambda x : x.split(\"@\")[1])"
   ]
  },
  {
   "cell_type": "code",
   "execution_count": null,
   "id": "bb2908ed",
   "metadata": {},
   "outputs": [],
   "source": [
    "#ANS 8 : \n",
    "\n",
    "import pandas as pd\n",
    "data5 = {\"A\":[3,8,6,2,9], \"B\":[5,2,9,3,1], \"C\":[1,7,4,5,2]}\n",
    "DF3 = pd.DataFrame(data5)\n",
    "\n",
    "DF3[\"ABC\"] = DF3[(DF3[\"A\"] < 5) & (DF3[\"B\"] > 10)] "
   ]
  },
  {
   "cell_type": "code",
   "execution_count": null,
   "id": "194c2cd1",
   "metadata": {},
   "outputs": [],
   "source": [
    "#ANS 9 : \n",
    "\n",
    "import pandas as pd\n",
    "data6 = {\"VALUES\":[3,8,6,2,9,5,2,9,3,1,1,7,4,5,2]}\n",
    "DF4 = pd.DataFrame(data6)\n",
    "DF4.describe()\n"
   ]
  },
  {
   "cell_type": "code",
   "execution_count": null,
   "id": "92d5f136",
   "metadata": {},
   "outputs": [],
   "source": [
    "#ANS 10 : \n",
    "\n",
    "import pandas as pd\n",
    "data7 = {\"DATE\":[\"D1\",\"D2\",\"D3\",\"D4\",\"D5\",\"D6\",\"D7\",\"D8\",\"D9\",\"D10\"], \"SALES\":[5000,2000,9000,30000,23000,\n",
    "                                                                               43000,23000,54000,65000,\n",
    "                                                                               70000]}\n",
    "\n",
    "DF5 = pd.DataFrame(data7)\n",
    "DF5.avg.iloc([0:8])"
   ]
  },
  {
   "cell_type": "code",
   "execution_count": null,
   "id": "b08111b1",
   "metadata": {},
   "outputs": [],
   "source": [
    "#ANS 11 : \n",
    "\n",
    "import pandas as pd\n",
    "dict3 = {\"DATE\":[\"01-03-2022\",\"02-03-2022\",\"03-03-2022\",\"04-03-2022\"]}\n",
    "Df = pd.DataFrame(dict3)\n",
    "\n",
    "Df[\"WEEKDAYS\"] = [\"MONDAY\", \"TUESDAY\", \"WEDNUSDAY\", \"THURSDAY\"]\n",
    "print(Df)"
   ]
  },
  {
   "cell_type": "code",
   "execution_count": null,
   "id": "8f502763",
   "metadata": {},
   "outputs": [],
   "source": [
    "#ANS 12 : \n",
    "\n",
    "import pandas as pd\n",
    "dict3 = {\"DATE\":[\"01-2023\",\"02-2023\",\"03-2023\",\"04-2023\",\"05-2023\",\"06-2023\",\"07-2023\",\"08-2023\",\"09-2023\",\n",
    "                 \"10-2023\",\"11-2023\",\"12-2023\",\"13-2023\",\"14-2023\",\"15-2023\",\"16-2023\",\"17-2023\",\n",
    "                 \"018-2023\",\"19-2023\",\"20-2023\",\"21-2023\",\"22-2023\",\"23-2023\",\"24-2023\",\"25-2023\",\"26-2023\",\n",
    "                \"27-2023\",\"28-2023\",\"29-2023\",\"30-2023\",\"31-2023\"]}\n",
    "\n",
    "Df = pd.DataFrame(dict3)\n",
    "Df[\"DATE\"][0:22]"
   ]
  },
  {
   "cell_type": "code",
   "execution_count": null,
   "id": "18fcf92f",
   "metadata": {},
   "outputs": [],
   "source": [
    "#ANS 13 :\n",
    "\n",
    "''' \n",
    "TO USE EACH AND EVERY FUNCTION RELATED TO DATA BY ANYSENCE WE NEED TO IMPORT  \"PANDAS\" LIBRARY \n",
    "\n",
    "SYNTAX :-   \n",
    "             import pandas as pd\n",
    "             \n",
    "'''"
   ]
  }
 ],
 "metadata": {
  "kernelspec": {
   "display_name": "Python 3 (ipykernel)",
   "language": "python",
   "name": "python3"
  },
  "language_info": {
   "codemirror_mode": {
    "name": "ipython",
    "version": 3
   },
   "file_extension": ".py",
   "mimetype": "text/x-python",
   "name": "python",
   "nbconvert_exporter": "python",
   "pygments_lexer": "ipython3",
   "version": "3.11.3"
  }
 },
 "nbformat": 4,
 "nbformat_minor": 5
}
